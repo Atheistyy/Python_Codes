{
  "nbformat": 4,
  "nbformat_minor": 0,
  "metadata": {
    "colab": {
      "name": "__getattr__.ipynb",
      "provenance": [],
      "collapsed_sections": []
    },
    "kernelspec": {
      "name": "python3",
      "display_name": "Python 3"
    },
    "language_info": {
      "name": "python"
    }
  },
  "cells": [
    {
      "cell_type": "code",
      "source": [
        "# 1. __getattr__\n",
        "# 作用: 如果属性查找（attribute lookup）在实例以及对应的类中（通过__dict__)失败， \n",
        "# 那么会调用到类的__getattr__函数, 如果没有定义这个函数，那么抛出AttributeError异常。\n",
        "# 由此可见，__getattr__一定是作用于属性查找的最后一步，兜底。\n",
        "\n",
        "# 当我们访问一个不存在的属性的时候，会抛出异常，提示我们不存在这个属性。\n",
        "# 而这个异常就是__getattr__方法抛出的，其原因在于他是访问一个不存在的属性的最后落脚点，作为异常抛出的地方提示出错再适合不过了。"
      ],
      "metadata": {
        "id": "bC10Wz_Tuoxu"
      },
      "execution_count": 1,
      "outputs": []
    },
    {
      "cell_type": "code",
      "source": [
        "# 例1:\n",
        "\n",
        "class A(object):\n",
        "    def __init__(self, value):\n",
        "        self.value = value\n",
        " \n",
        "    def __getattr__(self, item):\n",
        "        print(item)\n",
        "        print(\"into __getattr__\")\n",
        "        return  \"can not find\"\n",
        " \n",
        "a = A(10)\n",
        "print(a.value)\n",
        "print(a.name)\n",
        "\n",
        "# 可以看出，访问存在的属性时，会正常返回值 \n",
        "# 若该值不存在，则会进入最后的兜底函数__getattr__"
      ],
      "metadata": {
        "colab": {
          "base_uri": "https://localhost:8080/"
        },
        "id": "H16qcw9UNfOs",
        "outputId": "41d02a86-defc-4a88-e2f1-40e299f267f7"
      },
      "execution_count": 20,
      "outputs": [
        {
          "output_type": "stream",
          "name": "stdout",
          "text": [
            "10\n",
            "name\n",
            "into __getattr__\n",
            "can not find\n"
          ]
        }
      ]
    },
    {
      "cell_type": "code",
      "source": [
        "# 例2: 通过访问属性访问dict中的键值对\n",
        "\n",
        "class ObjectDict(dict):\n",
        "    def __init__(self, *args, **kwargs):\n",
        "        super(ObjectDict, self).__init__(*args, **kwargs)  # super().__init__(*args, **kwargs) 表示继承了父类的init方法 \n",
        "\n",
        "    def __getattr__(self, name):\n",
        "        value =  self[name]\n",
        "        if isinstance(value, dict):\n",
        "            value = ObjectDict(value)\n",
        "        return value\n",
        "\n",
        "if __name__ == '__main__':\n",
        "    od = ObjectDict(asf={'a': 1}, d=True, e=False)\n",
        "    print(od.asf)\n",
        "    print(od.asf.a)\n",
        "    print(od.d)\n",
        "    print(od.e)"
      ],
      "metadata": {
        "colab": {
          "base_uri": "https://localhost:8080/"
        },
        "id": "nN8MX-xAvca-",
        "outputId": "40a40b48-b8d0-4b5d-9727-018a6a1f5a6a"
      },
      "execution_count": 35,
      "outputs": [
        {
          "output_type": "stream",
          "name": "stdout",
          "text": [
            "{'a': 1}\n",
            "1\n",
            "True\n",
            "False\n"
          ]
        }
      ]
    },
    {
      "cell_type": "code",
      "source": [
        "# 例3: __getattr__使得实现adapter wrapper模式非常容易，\n",
        "# 我们都知道“组合优于继承”，__getattr__实现的adapter就是以组合的形式。\n",
        "\n",
        "class adaptee(object):\n",
        "    def foo(self):\n",
        "        print('foo in adaptee')\n",
        "    def bar(self):\n",
        "        print('bar in adaptee')\n",
        "\n",
        "class adapter(object):\n",
        "    def __init__(self):\n",
        "        self.adaptee = adaptee()\n",
        "\n",
        "    def foo(self):\n",
        "        print('foo in adapter')\n",
        "        self.adaptee.foo()\n",
        "\n",
        "    def __getattr__(self, name):\n",
        "        print('name',name)\n",
        "        return getattr(self.adaptee, name)\n",
        "\n",
        "if __name__ == '__main__':\n",
        "    a = adapter()\n",
        "    a.foo()\n",
        "    a.bar()"
      ],
      "metadata": {
        "colab": {
          "base_uri": "https://localhost:8080/"
        },
        "id": "RL6mMPKrvtMh",
        "outputId": "d3729501-28e7-4f4f-cdeb-8d22386a5ea6"
      },
      "execution_count": 16,
      "outputs": [
        {
          "output_type": "stream",
          "name": "stdout",
          "text": [
            "foo in adapter\n",
            "foo in adaptee\n",
            "name bar\n",
            "bar in adaptee\n"
          ]
        }
      ]
    },
    {
      "cell_type": "code",
      "source": [
        "# 2. __setattr__\n",
        "# 在对一个属性设置值的时候，会调用到这个函数，每个设置值的方式都会进入这个方法。"
      ],
      "metadata": {
        "id": "9fL1jv-VN8GX"
      },
      "execution_count": null,
      "outputs": []
    },
    {
      "cell_type": "code",
      "source": [
        "# 在实例化的时候，会进行初始化，在__init__里，对value的属性值进行了设置，这时候会调用__setattr__方法。\n",
        "# 在对a.value重新设置值100的时候，会再次进入__setattr__方法。\n",
        "\n",
        "class A(object):\n",
        "    def __init__(self, value):\n",
        "        print(\"into __init__\")\n",
        "        self.value = value\n",
        " \n",
        "    def __setattr__(self, name, value):\n",
        "        print('name:', name)\n",
        "        print('value:',value)\n",
        "        print(\"into __setattr__\")\n",
        "        if value == 10:\n",
        "            print(\"from __init__\")\n",
        "        object.__setattr__(self, name, value) \n",
        " \n",
        "a = A(10)\n",
        "print(a.value)"
      ],
      "metadata": {
        "colab": {
          "base_uri": "https://localhost:8080/"
        },
        "id": "y0d243SAZatO",
        "outputId": "da965177-760b-4ec2-d015-d0b33047e57d"
      },
      "execution_count": 44,
      "outputs": [
        {
          "output_type": "stream",
          "name": "stdout",
          "text": [
            "into __init__\n",
            "name: value\n",
            "value: 10\n",
            "into __setattr__\n",
            "from __init__\n",
            "10\n"
          ]
        }
      ]
    },
    {
      "cell_type": "code",
      "source": [
        "a.value = 100\n",
        "print(a.value)"
      ],
      "metadata": {
        "colab": {
          "base_uri": "https://localhost:8080/"
        },
        "id": "c1dSSHpaZ5AT",
        "outputId": "73f1dee5-63a7-45ef-8a23-1aa58ffd74b3"
      },
      "execution_count": 42,
      "outputs": [
        {
          "output_type": "stream",
          "name": "stdout",
          "text": [
            "name: value\n",
            "value: 100\n",
            "into __setattr__\n",
            "100\n"
          ]
        }
      ]
    },
    {
      "cell_type": "code",
      "source": [
        "# 需要注意的地方是，在重写__setattr__方法的时候千万不要重复调用造成死循环。\n",
        "class A(object):\n",
        "    def __init__(self, value):\n",
        "        self.value = value\n",
        " \n",
        "    def __setattr__(self, name, value):\n",
        "        self.name = value\n",
        "\n",
        "# 这是个死循环。当我们实例化这个类的时候，会进入__init__，\n",
        "# 然后对value进行设置值，设置值会进入__setattr__方法，\n",
        "# 而__setattr__方法里面又有一个self.name=value设置值的操作，会再次调用自身__setattr__，造成死循环。"
      ],
      "metadata": {
        "id": "1236hfxOa9R3"
      },
      "execution_count": 36,
      "outputs": []
    },
    {
      "cell_type": "code",
      "source": [
        "# 除了上面调用object类的__setattr__避开死循环，还可以如下重写__setattr__避开循环。\n",
        "class A(object):\n",
        "    def __init__(self, value):\n",
        "        self.value = value\n",
        " \n",
        "    def __setattr__(self, name, value):\n",
        "        self.__dict__[name] = value\n",
        " \n",
        "a = A(10)\n",
        "print(a.value)"
      ],
      "metadata": {
        "colab": {
          "base_uri": "https://localhost:8080/"
        },
        "id": "iDRySAvvbKRH",
        "outputId": "98a69dec-4076-4f9c-a160-53aec56e7919"
      },
      "execution_count": 40,
      "outputs": [
        {
          "output_type": "stream",
          "name": "stdout",
          "text": [
            "10\n"
          ]
        }
      ]
    },
    {
      "cell_type": "code",
      "source": [
        "# 编写一个Dict类，这个类的行为和dict一致，但是可以通过属性来访问\n",
        "class Dict(dict):\n",
        "\n",
        "    def __init__(self, **kw):\n",
        "        super().__init__(**kw)\n",
        "\n",
        "    def __getattr__(self, key):\n",
        "        try:\n",
        "            return self[key]\n",
        "        except KeyError:\n",
        "            raise AttributeError(r\"'Dict' object has no attribute '%s'\" % key)\n",
        "\n",
        "    def __setattr__(self, key, value):\n",
        "        self[key] = value\n",
        "\n",
        "d = Dict(a=1, b=2)\n",
        "print(d['a'])\n",
        "print(d.b)"
      ],
      "metadata": {
        "colab": {
          "base_uri": "https://localhost:8080/"
        },
        "id": "-aa7qDHtb9Ww",
        "outputId": "2bdbff28-72e4-481f-814b-8879cb0870df"
      },
      "execution_count": 46,
      "outputs": [
        {
          "output_type": "stream",
          "name": "stdout",
          "text": [
            "1\n",
            "2\n"
          ]
        }
      ]
    },
    {
      "cell_type": "code",
      "source": [
        "# 3. __delattr__\n",
        "# __delattr__是个删除属性的方法"
      ],
      "metadata": {
        "id": "NFIcrOpIcZSc"
      },
      "execution_count": null,
      "outputs": []
    },
    {
      "cell_type": "code",
      "source": [
        "class A(object):\n",
        "    def __init__(self, value):\n",
        "        self.value = value\n",
        " \n",
        "    def __delattr__(self, item):\n",
        "        object.__delattr__(self, item)\n",
        " \n",
        "    def __getattr__(self, item):\n",
        "        return \"can not find attribute into __getattr__\"\n",
        "\n",
        "a = A(10)\n",
        "print(a.value)"
      ],
      "metadata": {
        "colab": {
          "base_uri": "https://localhost:8080/"
        },
        "id": "WxsPhcPXceNy",
        "outputId": "f1f2e8a1-a22f-40c3-f695-cde3e247fb57"
      },
      "execution_count": 50,
      "outputs": [
        {
          "output_type": "stream",
          "name": "stdout",
          "text": [
            "10\n"
          ]
        }
      ]
    },
    {
      "cell_type": "code",
      "source": [
        "del(a.value)\n",
        "print(a.value)"
      ],
      "metadata": {
        "colab": {
          "base_uri": "https://localhost:8080/"
        },
        "id": "eqVhbGyHcuF-",
        "outputId": "a31c32f3-012c-4273-99c4-ddfb26dee37d"
      },
      "execution_count": 51,
      "outputs": [
        {
          "output_type": "stream",
          "name": "stdout",
          "text": [
            "can not find attribute into __getattr__\n"
          ]
        }
      ]
    }
  ]
}
