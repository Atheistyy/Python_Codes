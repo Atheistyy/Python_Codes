{
  "nbformat": 4,
  "nbformat_minor": 0,
  "metadata": {
    "colab": {
      "name": "python_参数.ipynb",
      "provenance": [],
      "collapsed_sections": []
    },
    "kernelspec": {
      "name": "python3",
      "display_name": "Python 3"
    },
    "language_info": {
      "name": "python"
    }
  },
  "cells": [
    {
      "cell_type": "code",
      "execution_count": null,
      "metadata": {
        "colab": {
          "base_uri": "https://localhost:8080/"
        },
        "id": "eShTFhRzyS4I",
        "outputId": "b9956ba6-bb0f-4a87-d43d-e0b6627cade8"
      },
      "outputs": [
        {
          "output_type": "stream",
          "name": "stdout",
          "text": [
            "({'a': 1},)\n",
            "([1, 2, 3, 4, 5],)\n",
            "('c',)\n"
          ]
        }
      ],
      "source": [
        "# 可变参数:\n",
        "# 允许传入0个或者任意个参数，在调用时自动组装为一个tuple\n",
        "# 传入参数本身是不受限制的。\n",
        "\n",
        "def para(*args): \n",
        "    print(args)\n",
        "\n",
        "a = {'a': 1}\n",
        "para(a)\n",
        "\n",
        "b = [1,2,3,4,5]\n",
        "para(b)\n",
        "\n",
        "c = 'c'\n",
        "para(c)\n",
        "\n",
        "# 但是无法传入 key-value 类型\n",
        "# para(x=1) 会报错"
      ]
    },
    {
      "cell_type": "code",
      "source": [
        "def calc1(numbers):\n",
        "    sum = 0\n",
        "    for n in numbers:\n",
        "      sum = sum + n\n",
        "    return sum\n",
        "calc1((1,2,3,4))  # 必须传入元组或列表"
      ],
      "metadata": {
        "colab": {
          "base_uri": "https://localhost:8080/"
        },
        "id": "-qFDKvfv1oZ7",
        "outputId": "2b1d50f6-9efc-4531-ffe1-692933c4925a"
      },
      "execution_count": null,
      "outputs": [
        {
          "output_type": "execute_result",
          "data": {
            "text/plain": [
              "10"
            ]
          },
          "metadata": {},
          "execution_count": 39
        }
      ]
    },
    {
      "cell_type": "code",
      "source": [
        "def calc2(*numbers):\n",
        "    sum = 0\n",
        "    for n in numbers:\n",
        "      sum = sum + n\n",
        "    return sum\n",
        "calc2(1,2,3,4)   # 自动组装成元祖"
      ],
      "metadata": {
        "colab": {
          "base_uri": "https://localhost:8080/"
        },
        "id": "Eb8xS_dF1O9A",
        "outputId": "650f0a84-c0b8-4522-9a33-2380daa9e065"
      },
      "execution_count": null,
      "outputs": [
        {
          "output_type": "execute_result",
          "data": {
            "text/plain": [
              "10"
            ]
          },
          "metadata": {},
          "execution_count": 40
        }
      ]
    },
    {
      "cell_type": "code",
      "source": [
        "# 注意这种模式的反向实现\n",
        "nums = [1,2,3,4]\n",
        "print(calc1(nums))\n",
        "# calc2(nums) 会报错\n",
        "print(calc2(*nums))"
      ],
      "metadata": {
        "colab": {
          "base_uri": "https://localhost:8080/"
        },
        "id": "17GUpLc22NkS",
        "outputId": "3f2b23ad-498b-4a23-85d0-5ff241705244"
      },
      "execution_count": null,
      "outputs": [
        {
          "output_type": "stream",
          "name": "stdout",
          "text": [
            "10\n",
            "10\n"
          ]
        }
      ]
    },
    {
      "cell_type": "code",
      "source": [
        "# 关键字参数\n",
        "# 允许传入0个或任意个含参数名的参数，在调用时自动组装为一个dict\n",
        "\n",
        "def f(**kw): \n",
        "   print(kw) \n",
        "\n",
        "f(a=1)\n",
        "f(a=1,b=2,c=3)"
      ],
      "metadata": {
        "colab": {
          "base_uri": "https://localhost:8080/"
        },
        "id": "-D-LKe3K4Ca5",
        "outputId": "850edfc9-f691-4ea2-c7e9-bfc245162f71"
      },
      "execution_count": null,
      "outputs": [
        {
          "output_type": "stream",
          "name": "stdout",
          "text": [
            "{'a': 1}\n",
            "{'a': 1, 'b': 2, 'c': 3}\n"
          ]
        }
      ]
    },
    {
      "cell_type": "code",
      "source": [
        "# 反向实现\n",
        "k = {'a':1,'b':2,'c':3}\n",
        "f(**k)"
      ],
      "metadata": {
        "colab": {
          "base_uri": "https://localhost:8080/"
        },
        "id": "XBpS1njneDxT",
        "outputId": "50029c2c-09c5-430c-e7f1-5daac89f60df"
      },
      "execution_count": null,
      "outputs": [
        {
          "output_type": "stream",
          "name": "stdout",
          "text": [
            "{'a': 1, 'b': 2, 'c': 3}\n"
          ]
        }
      ]
    },
    {
      "cell_type": "code",
      "source": [
        "# 参数组合\n",
        "def G(*args,**kw):\n",
        "    print(args, kw)\n",
        "\n",
        "g = G(1,2,3,'a','b','c',d=1,e=2,f=3)"
      ],
      "metadata": {
        "colab": {
          "base_uri": "https://localhost:8080/"
        },
        "id": "4_11HIz6eoZD",
        "outputId": "ee858454-bde0-4370-987f-2227362fbc74"
      },
      "execution_count": null,
      "outputs": [
        {
          "output_type": "stream",
          "name": "stdout",
          "text": [
            "(1, 2, 3, 'a', 'b', 'c') {'d': 1, 'e': 2, 'f': 3}\n"
          ]
        }
      ]
    },
    {
      "cell_type": "code",
      "source": [
        "class Dict(dict):\n",
        "    def __init__(self, *args,**kw):\n",
        "        super().__init__(*args,**kw)\n",
        "\n",
        "    def __getattr__(self,name):\n",
        "        value =  self[name]\n",
        "        print('name:',name)\n",
        "        print('value:',value)\n",
        "        if isinstance(value, dict):\n",
        "            print('isinstance is done')\n",
        "            value = Dict(value)\n",
        "        return value\n",
        "\n",
        "d = Dict(A={'a':{'b':1},'c': 2}, d=3)\n",
        "print(d['d'])\n",
        "print(d['A']['a'])\n",
        "print('----')\n",
        "print(d.A)\n",
        "print('----')\n",
        "print(d.A.a.b)"
      ],
      "metadata": {
        "colab": {
          "base_uri": "https://localhost:8080/"
        },
        "id": "cJw28IE1f7Up",
        "outputId": "5f0b934a-367c-43d9-a2c7-69e6bd4db30b"
      },
      "execution_count": 146,
      "outputs": [
        {
          "output_type": "stream",
          "name": "stdout",
          "text": [
            "3\n",
            "{'b': 1}\n",
            "----\n",
            "name: A\n",
            "value: {'a': {'b': 1}, 'c': 2}\n",
            "isinstance is done\n",
            "{'a': {'b': 1}, 'c': 2}\n",
            "----\n",
            "name: A\n",
            "value: {'a': {'b': 1}, 'c': 2}\n",
            "isinstance is done\n",
            "name: a\n",
            "value: {'b': 1}\n",
            "isinstance is done\n",
            "name: b\n",
            "value: 1\n",
            "1\n"
          ]
        }
      ]
    }
  ]
}