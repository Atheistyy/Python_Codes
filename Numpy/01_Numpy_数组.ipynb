{
  "nbformat": 4,
  "nbformat_minor": 0,
  "metadata": {
    "colab": {
      "name": "01_Numpy_数组.ipynb",
      "provenance": [],
      "collapsed_sections": []
    },
    "kernelspec": {
      "name": "python3",
      "display_name": "Python 3"
    },
    "language_info": {
      "name": "python"
    }
  },
  "cells": [
    {
      "cell_type": "markdown",
      "source": [
        "**# 数组的创建和计算**"
      ],
      "metadata": {
        "id": "fh6jJi_3L8gq"
      }
    },
    {
      "cell_type": "markdown",
      "source": [
        "* 数组的基本属性"
      ],
      "metadata": {
        "id": "HsmNMCxJMD4R"
      }
    },
    {
      "cell_type": "code",
      "execution_count": 34,
      "metadata": {
        "colab": {
          "base_uri": "https://localhost:8080/"
        },
        "id": "nIHXGdpBJFsf",
        "outputId": "abdec109-24c0-47b8-e7e5-a5e10e3494a3"
      },
      "outputs": [
        {
          "output_type": "execute_result",
          "data": {
            "text/plain": [
              "(array([1, 2, 3]), numpy.ndarray, dtype('int64'))"
            ]
          },
          "metadata": {},
          "execution_count": 34
        }
      ],
      "source": [
        "import numpy as np\n",
        "\n",
        "a = np.array([1,2,3])   # 创建一维数组，即向量\n",
        "a, type(a), a.dtype     # 生成数组，数组的类名，数组的类型"
      ]
    },
    {
      "cell_type": "code",
      "source": [
        "a.size, a.shape  # 数组的大小(包含元素个数)，数组的形状"
      ],
      "metadata": {
        "colab": {
          "base_uri": "https://localhost:8080/"
        },
        "id": "e8aCsFpLOtpM",
        "outputId": "879a5ce1-eb7b-4245-95bf-2ea1499b6e3f"
      },
      "execution_count": 35,
      "outputs": [
        {
          "output_type": "execute_result",
          "data": {
            "text/plain": [
              "(3, (3,))"
            ]
          },
          "metadata": {},
          "execution_count": 35
        }
      ]
    },
    {
      "cell_type": "code",
      "source": [
        "b = np.array([[1,2,3], [4,5,6]])  # 创建二维数组，即矩阵\n",
        "b, b.shape, b.size"
      ],
      "metadata": {
        "colab": {
          "base_uri": "https://localhost:8080/"
        },
        "id": "nQnnVf_sO-Da",
        "outputId": "52355824-de24-48ab-a660-82d2323763c4"
      },
      "execution_count": 45,
      "outputs": [
        {
          "output_type": "execute_result",
          "data": {
            "text/plain": [
              "(array([[1, 2, 3],\n",
              "        [4, 5, 6]]), (2, 3), 6)"
            ]
          },
          "metadata": {},
          "execution_count": 45
        }
      ]
    },
    {
      "cell_type": "code",
      "source": [
        "c = np.array(1)  # 创建0维数组，即标量\n",
        "c, c.shape, c.size"
      ],
      "metadata": {
        "colab": {
          "base_uri": "https://localhost:8080/"
        },
        "id": "2Dfyj2OqPisc",
        "outputId": "698c5f46-e557-4a0b-c23f-f7f5182c6065"
      },
      "execution_count": 37,
      "outputs": [
        {
          "output_type": "execute_result",
          "data": {
            "text/plain": [
              "(array(1), (), 1)"
            ]
          },
          "metadata": {},
          "execution_count": 37
        }
      ]
    },
    {
      "cell_type": "code",
      "source": [
        "a = np.array([1,2,3],dtype = np.float32)  # 指定数组的类型 \n",
        "a"
      ],
      "metadata": {
        "colab": {
          "base_uri": "https://localhost:8080/"
        },
        "id": "xSvw7DbdM_jE",
        "outputId": "66c5c601-00eb-430d-f988-da867e7f51e1"
      },
      "execution_count": 38,
      "outputs": [
        {
          "output_type": "execute_result",
          "data": {
            "text/plain": [
              "array([1., 2., 3.], dtype=float32)"
            ]
          },
          "metadata": {},
          "execution_count": 38
        }
      ]
    },
    {
      "cell_type": "code",
      "source": [
        "b = np.array([0.0123,0.0456,0.0789,0.0321])  # 保留浮点数的小数位数\n",
        "np.round(b,2)"
      ],
      "metadata": {
        "colab": {
          "base_uri": "https://localhost:8080/"
        },
        "id": "-RN9LzAgOMYi",
        "outputId": "81983cdb-8540-418b-829d-6dc20985fa86"
      },
      "execution_count": 39,
      "outputs": [
        {
          "output_type": "execute_result",
          "data": {
            "text/plain": [
              "array([0.01, 0.05, 0.08, 0.03])"
            ]
          },
          "metadata": {},
          "execution_count": 39
        }
      ]
    },
    {
      "cell_type": "code",
      "source": [
        "a.astype(np.int8) # 修改数组的类型"
      ],
      "metadata": {
        "colab": {
          "base_uri": "https://localhost:8080/"
        },
        "id": "UEjuxD3LNu5C",
        "outputId": "2bbb3b22-946b-474a-d006-ddf016d751ba"
      },
      "execution_count": 40,
      "outputs": [
        {
          "output_type": "execute_result",
          "data": {
            "text/plain": [
              "array([1, 2, 3], dtype=int8)"
            ]
          },
          "metadata": {},
          "execution_count": 40
        }
      ]
    },
    {
      "cell_type": "markdown",
      "source": [
        "* 数组的其他创建方法"
      ],
      "metadata": {
        "id": "OsZ6QwvUN1uH"
      }
    },
    {
      "cell_type": "code",
      "source": [
        "b = np.array(range(10))\n",
        "b"
      ],
      "metadata": {
        "colab": {
          "base_uri": "https://localhost:8080/"
        },
        "id": "Pb2KHmy7Mi6f",
        "outputId": "d27d1c2f-743f-44cb-a316-b5afc4543b2d"
      },
      "execution_count": 41,
      "outputs": [
        {
          "output_type": "execute_result",
          "data": {
            "text/plain": [
              "array([0, 1, 2, 3, 4, 5, 6, 7, 8, 9])"
            ]
          },
          "metadata": {},
          "execution_count": 41
        }
      ]
    },
    {
      "cell_type": "code",
      "source": [
        "c = np.arange(10)  # 等价于 np.array(range()) 方法\n",
        "c"
      ],
      "metadata": {
        "colab": {
          "base_uri": "https://localhost:8080/"
        },
        "id": "8TGBvOBSMo_5",
        "outputId": "8d18863d-3414-43e7-eecc-7eb35c024bcb"
      },
      "execution_count": 42,
      "outputs": [
        {
          "output_type": "execute_result",
          "data": {
            "text/plain": [
              "array([0, 1, 2, 3, 4, 5, 6, 7, 8, 9])"
            ]
          },
          "metadata": {},
          "execution_count": 42
        }
      ]
    },
    {
      "cell_type": "code",
      "source": [
        "d = np.arange(4,10,2)\n",
        "d"
      ],
      "metadata": {
        "colab": {
          "base_uri": "https://localhost:8080/"
        },
        "id": "_oXm8fZfMtEB",
        "outputId": "e2874535-60cc-4e7f-974f-5cbc512e34ba"
      },
      "execution_count": 43,
      "outputs": [
        {
          "output_type": "execute_result",
          "data": {
            "text/plain": [
              "array([4, 6, 8])"
            ]
          },
          "metadata": {},
          "execution_count": 43
        }
      ]
    },
    {
      "cell_type": "markdown",
      "source": [
        "* 数组形状的修改"
      ],
      "metadata": {
        "id": "1fWkwYqsRCrL"
      }
    },
    {
      "cell_type": "code",
      "source": [
        "A = np.arange(24).reshape(2,2,6) # 创建一个三维数组\n",
        "A"
      ],
      "metadata": {
        "colab": {
          "base_uri": "https://localhost:8080/"
        },
        "id": "DTCornRXRFrA",
        "outputId": "08696aa0-35c9-42f7-899b-d291e41054ea"
      },
      "execution_count": 48,
      "outputs": [
        {
          "output_type": "execute_result",
          "data": {
            "text/plain": [
              "array([[[ 0,  1,  2,  3,  4,  5],\n",
              "        [ 6,  7,  8,  9, 10, 11]],\n",
              "\n",
              "       [[12, 13, 14, 15, 16, 17],\n",
              "        [18, 19, 20, 21, 22, 23]]])"
            ]
          },
          "metadata": {},
          "execution_count": 48
        }
      ]
    },
    {
      "cell_type": "code",
      "source": [
        "A.reshape(3,2,4)  # 表示3个矩阵，每个矩阵是2 x 4"
      ],
      "metadata": {
        "colab": {
          "base_uri": "https://localhost:8080/"
        },
        "id": "PPFkrCz8U4Vc",
        "outputId": "f59e7911-e0c0-47db-8aef-9cecfec6f59f"
      },
      "execution_count": 49,
      "outputs": [
        {
          "output_type": "execute_result",
          "data": {
            "text/plain": [
              "array([[[ 0,  1,  2,  3],\n",
              "        [ 4,  5,  6,  7]],\n",
              "\n",
              "       [[ 8,  9, 10, 11],\n",
              "        [12, 13, 14, 15]],\n",
              "\n",
              "       [[16, 17, 18, 19],\n",
              "        [20, 21, 22, 23]]])"
            ]
          },
          "metadata": {},
          "execution_count": 49
        }
      ]
    },
    {
      "cell_type": "code",
      "source": [
        "A.shape  # reshape 不会改变数组本身的形状"
      ],
      "metadata": {
        "colab": {
          "base_uri": "https://localhost:8080/"
        },
        "id": "ybQm1k-VdDpH",
        "outputId": "ca2ea4f4-c52b-437b-80c4-0097c809e4ec"
      },
      "execution_count": 55,
      "outputs": [
        {
          "output_type": "execute_result",
          "data": {
            "text/plain": [
              "(2, 2, 6)"
            ]
          },
          "metadata": {},
          "execution_count": 55
        }
      ]
    },
    {
      "cell_type": "code",
      "source": [
        "A.reshape(24,)  # 一维数组，一维行向量的形式，但是在计算中是按列向量进行计算的"
      ],
      "metadata": {
        "colab": {
          "base_uri": "https://localhost:8080/"
        },
        "id": "JFvADjDZU7i3",
        "outputId": "73bfb9f6-d815-4e38-c727-f580e0ae5b3e"
      },
      "execution_count": 50,
      "outputs": [
        {
          "output_type": "execute_result",
          "data": {
            "text/plain": [
              "array([ 0,  1,  2,  3,  4,  5,  6,  7,  8,  9, 10, 11, 12, 13, 14, 15, 16,\n",
              "       17, 18, 19, 20, 21, 22, 23])"
            ]
          },
          "metadata": {},
          "execution_count": 50
        }
      ]
    },
    {
      "cell_type": "code",
      "source": [
        "A.reshape(24,1)  # 矩阵的列向量展示"
      ],
      "metadata": {
        "colab": {
          "base_uri": "https://localhost:8080/"
        },
        "id": "1cU2Bk64U_Vl",
        "outputId": "814c7a1e-ad40-43e4-c5d3-7b48c180c30a"
      },
      "execution_count": 51,
      "outputs": [
        {
          "output_type": "execute_result",
          "data": {
            "text/plain": [
              "array([[ 0],\n",
              "       [ 1],\n",
              "       [ 2],\n",
              "       [ 3],\n",
              "       [ 4],\n",
              "       [ 5],\n",
              "       [ 6],\n",
              "       [ 7],\n",
              "       [ 8],\n",
              "       [ 9],\n",
              "       [10],\n",
              "       [11],\n",
              "       [12],\n",
              "       [13],\n",
              "       [14],\n",
              "       [15],\n",
              "       [16],\n",
              "       [17],\n",
              "       [18],\n",
              "       [19],\n",
              "       [20],\n",
              "       [21],\n",
              "       [22],\n",
              "       [23]])"
            ]
          },
          "metadata": {},
          "execution_count": 51
        }
      ]
    },
    {
      "cell_type": "code",
      "source": [
        "A.reshape(1,24) # 矩阵的行向量展示"
      ],
      "metadata": {
        "colab": {
          "base_uri": "https://localhost:8080/"
        },
        "id": "TN5A3sNvWjCi",
        "outputId": "c3024e72-9e1a-4145-dc8b-ead8088ecf16"
      },
      "execution_count": 52,
      "outputs": [
        {
          "output_type": "execute_result",
          "data": {
            "text/plain": [
              "array([[ 0,  1,  2,  3,  4,  5,  6,  7,  8,  9, 10, 11, 12, 13, 14, 15,\n",
              "        16, 17, 18, 19, 20, 21, 22, 23]])"
            ]
          },
          "metadata": {},
          "execution_count": 52
        }
      ]
    },
    {
      "cell_type": "code",
      "source": [
        "A, A.flatten()  # 将数组展开成一维形式"
      ],
      "metadata": {
        "colab": {
          "base_uri": "https://localhost:8080/"
        },
        "id": "FXMaRP_PWH2B",
        "outputId": "c551ad5d-67df-4653-a6a6-9e84a1f96e2e"
      },
      "execution_count": 54,
      "outputs": [
        {
          "output_type": "execute_result",
          "data": {
            "text/plain": [
              "(array([[[ 0,  1,  2,  3,  4,  5],\n",
              "         [ 6,  7,  8,  9, 10, 11]],\n",
              " \n",
              "        [[12, 13, 14, 15, 16, 17],\n",
              "         [18, 19, 20, 21, 22, 23]]]),\n",
              " array([ 0,  1,  2,  3,  4,  5,  6,  7,  8,  9, 10, 11, 12, 13, 14, 15, 16,\n",
              "        17, 18, 19, 20, 21, 22, 23]))"
            ]
          },
          "metadata": {},
          "execution_count": 54
        }
      ]
    },
    {
      "cell_type": "markdown",
      "source": [
        "* 数组的计算"
      ],
      "metadata": {
        "id": "BZlnO122dp_D"
      }
    },
    {
      "cell_type": "code",
      "source": [
        "x = np.arange(12).reshape(2,2,3)\n",
        "x"
      ],
      "metadata": {
        "colab": {
          "base_uri": "https://localhost:8080/"
        },
        "id": "zzd9cydxX2uP",
        "outputId": "80908253-8e33-4717-950b-3be764933e35"
      },
      "execution_count": 82,
      "outputs": [
        {
          "output_type": "execute_result",
          "data": {
            "text/plain": [
              "array([[[ 0,  1,  2],\n",
              "        [ 3,  4,  5]],\n",
              "\n",
              "       [[ 6,  7,  8],\n",
              "        [ 9, 10, 11]]])"
            ]
          },
          "metadata": {},
          "execution_count": 82
        }
      ]
    },
    {
      "cell_type": "code",
      "source": [
        "# 数组与标量的计算，标量和每一个元素进行加减乘除运算\n",
        "x + 2"
      ],
      "metadata": {
        "colab": {
          "base_uri": "https://localhost:8080/"
        },
        "id": "GEIjo3r-fmFU",
        "outputId": "4d70b851-1929-40cc-ed0c-ecf9261636c1"
      },
      "execution_count": 77,
      "outputs": [
        {
          "output_type": "execute_result",
          "data": {
            "text/plain": [
              "array([[[ 2,  3,  4],\n",
              "        [ 5,  6,  7]],\n",
              "\n",
              "       [[ 8,  9, 10],\n",
              "        [11, 12, 13]]])"
            ]
          },
          "metadata": {},
          "execution_count": 77
        }
      ]
    },
    {
      "cell_type": "code",
      "source": [
        "x * 2"
      ],
      "metadata": {
        "colab": {
          "base_uri": "https://localhost:8080/"
        },
        "id": "ZeaBdn3whVHr",
        "outputId": "f1ac43f1-089f-45b1-c300-aa1b9ba14e68"
      },
      "execution_count": 79,
      "outputs": [
        {
          "output_type": "execute_result",
          "data": {
            "text/plain": [
              "array([[[ 0,  2,  4],\n",
              "        [ 6,  8, 10]],\n",
              "\n",
              "       [[12, 14, 16],\n",
              "        [18, 20, 22]]])"
            ]
          },
          "metadata": {},
          "execution_count": 79
        }
      ]
    },
    {
      "cell_type": "code",
      "source": [
        "# 数组与数组的计算，\n",
        "y = np.array([[[1,1,1],[1,1,1]], [[2,2,2],[2,2,2]]])\n",
        "y"
      ],
      "metadata": {
        "colab": {
          "base_uri": "https://localhost:8080/"
        },
        "id": "bop_lm-ofkv8",
        "outputId": "c92a486c-f03f-4074-ac9a-16fe70abdb01"
      },
      "execution_count": 86,
      "outputs": [
        {
          "output_type": "execute_result",
          "data": {
            "text/plain": [
              "array([[[1, 1, 1],\n",
              "        [1, 1, 1]],\n",
              "\n",
              "       [[2, 2, 2],\n",
              "        [2, 2, 2]]])"
            ]
          },
          "metadata": {},
          "execution_count": 86
        }
      ]
    },
    {
      "cell_type": "code",
      "source": [
        "# 加减乘除表示的是，对应元素的运算\n",
        "x + y"
      ],
      "metadata": {
        "colab": {
          "base_uri": "https://localhost:8080/"
        },
        "id": "6C2d93QJv7U9",
        "outputId": "ddcaf835-b700-41fa-ee6e-f6773509970d"
      },
      "execution_count": 81,
      "outputs": [
        {
          "output_type": "execute_result",
          "data": {
            "text/plain": [
              "array([[[ 1,  2,  3],\n",
              "        [ 4,  5,  6]],\n",
              "\n",
              "       [[ 8,  9, 10],\n",
              "        [11, 12, 13]]])"
            ]
          },
          "metadata": {},
          "execution_count": 81
        }
      ]
    },
    {
      "cell_type": "code",
      "source": [
        "x * y"
      ],
      "metadata": {
        "colab": {
          "base_uri": "https://localhost:8080/"
        },
        "id": "sgZUPL5_xaqQ",
        "outputId": "b8d516fb-94e2-44f6-a558-7b078e0397d0"
      },
      "execution_count": 84,
      "outputs": [
        {
          "output_type": "execute_result",
          "data": {
            "text/plain": [
              "array([[[ 0,  1,  2],\n",
              "        [ 3,  4,  5]],\n",
              "\n",
              "       [[12, 14, 16],\n",
              "        [18, 20, 22]]])"
            ]
          },
          "metadata": {},
          "execution_count": 84
        }
      ]
    },
    {
      "cell_type": "code",
      "source": [
        "# 广播机制\n",
        "A = np.arange(6)\n",
        "A"
      ],
      "metadata": {
        "colab": {
          "base_uri": "https://localhost:8080/"
        },
        "id": "riaY3iaCzbr8",
        "outputId": "a9664808-4850-41f4-9b70-4c6ec0785fac"
      },
      "execution_count": 87,
      "outputs": [
        {
          "output_type": "execute_result",
          "data": {
            "text/plain": [
              "array([0, 1, 2, 3, 4, 5])"
            ]
          },
          "metadata": {},
          "execution_count": 87
        }
      ]
    },
    {
      "cell_type": "code",
      "source": [
        "B = np.ones((4,6), dtype = np.int32)\n",
        "B"
      ],
      "metadata": {
        "colab": {
          "base_uri": "https://localhost:8080/"
        },
        "id": "PA0X4tvLznme",
        "outputId": "a4b30dd2-8918-4945-e639-86b6af5a82ae"
      },
      "execution_count": 92,
      "outputs": [
        {
          "output_type": "execute_result",
          "data": {
            "text/plain": [
              "array([[1, 1, 1, 1, 1, 1],\n",
              "       [1, 1, 1, 1, 1, 1],\n",
              "       [1, 1, 1, 1, 1, 1],\n",
              "       [1, 1, 1, 1, 1, 1]], dtype=int32)"
            ]
          },
          "metadata": {},
          "execution_count": 92
        }
      ]
    },
    {
      "cell_type": "code",
      "source": [
        "A + B # 即 A 会自动填充至和 B 相同的形状之后进行运算"
      ],
      "metadata": {
        "colab": {
          "base_uri": "https://localhost:8080/"
        },
        "id": "EMLiQAu8z4Nd",
        "outputId": "3ea5979c-ac91-4eb8-bdf2-dade2e9aeb35"
      },
      "execution_count": 93,
      "outputs": [
        {
          "output_type": "execute_result",
          "data": {
            "text/plain": [
              "array([[1, 2, 3, 4, 5, 6],\n",
              "       [1, 2, 3, 4, 5, 6],\n",
              "       [1, 2, 3, 4, 5, 6],\n",
              "       [1, 2, 3, 4, 5, 6]])"
            ]
          },
          "metadata": {},
          "execution_count": 93
        }
      ]
    }
  ]
}